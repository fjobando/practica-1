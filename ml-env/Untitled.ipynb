{
 "cells": [
  {
   "cell_type": "markdown",
   "id": "59d482a8",
   "metadata": {},
   "source": [
    "Ver que tu entorno puede ejecutar código de ML. \n",
    "import numpy as np\n",
    "import pandas as pd\n",
    "print(\"Ambiente listo para Machine Learning\")"
   ]
  },
  {
   "cell_type": "code",
   "execution_count": 2,
   "id": "acded99a",
   "metadata": {},
   "outputs": [
    {
     "name": "stdout",
     "output_type": "stream",
     "text": [
      "Ambiente listo para Machine Learning\n"
     ]
    }
   ],
   "source": [
    "import numpy as np\n",
    "import pandas as pd\n",
    "print(\"Ambiente listo para Machine Learning\")"
   ]
  },
  {
   "cell_type": "markdown",
   "id": "bf0c34bd",
   "metadata": {},
   "source": [
    "Objetivo: Practicar control de versiones y respaldo en la nube.\n",
    "git init\n",
    "git add .\n",
    "git commit -m \"Primer notebook de prueba\"\n",
    "git remote add origin https://github.com/usuario/repositorio.git\n",
    "git branch -M main\n",
    "git push -u origin main"
   ]
  }
 ],
 "metadata": {
  "kernelspec": {
   "display_name": "Python 3 (ipykernel)",
   "language": "python",
   "name": "python3"
  },
  "language_info": {
   "codemirror_mode": {
    "name": "ipython",
    "version": 3
   },
   "file_extension": ".py",
   "mimetype": "text/x-python",
   "name": "python",
   "nbconvert_exporter": "python",
   "pygments_lexer": "ipython3",
   "version": "3.11.2"
  }
 },
 "nbformat": 4,
 "nbformat_minor": 5
}
