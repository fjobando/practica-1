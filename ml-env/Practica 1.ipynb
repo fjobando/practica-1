{
 "cells": [
  {
   "cell_type": "markdown",
   "id": "08b8dc4a",
   "metadata": {},
   "source": [
    "Ver que tu entorno puede ejecutar código de ML. \n",
    "import numpy as np\n",
    "import pandas as pd\n",
    "print(\"Ambiente listo para Machine Learning\")"
   ]
  },
  {
   "cell_type": "code",
   "execution_count": 2,
   "id": "a9d38911",
   "metadata": {},
   "outputs": [
    {
     "name": "stdout",
     "output_type": "stream",
     "text": [
      "Ambiente listo para Machine Learning\n"
     ]
    }
   ],
   "source": [
    "import numpy as np\n",
    "import pandas as pd\n",
    "print(\"Ambiente listo para Machine Learning\")"
   ]
  },
  {
   "cell_type": "markdown",
   "id": "54833d95",
   "metadata": {},
   "source": [
    "Objetivo: Practicar control de versiones y respaldo en la nube.\n",
    "git init\n",
    "git add .\n",
    "git commit -m \"Primer notebook de prueba\"\n",
    "git remote add origin https://github.com/fjobando/repositorio.git\n",
    "git branch -M main\n",
    "git push -u origin main"
   ]
  },
  {
   "cell_type": "markdown",
   "id": "0a806533",
   "metadata": {},
   "source": [
    "Actividades complementarias\n",
    "•\n",
    "Crea una cuenta gratuita en Kaggle.com\n",
    "•\n",
    "Explora datasets disponibles para practicar\n",
    "•\n",
    "Descarga un dataset pequeño (CSV) y ábrelo con Pandas"
   ]
  },
  {
   "cell_type": "code",
   "execution_count": 14,
   "id": "2bbff792",
   "metadata": {},
   "outputs": [
    {
     "name": "stdout",
     "output_type": "stream",
     "text": [
      "                                       Dataset_Name              Author  \\\n",
      "0                           Bitcoin Historical Data              Zielak   \n",
      "1  International football results from 1872 to 2025        Mart Jürisoo   \n",
      "2                                Fruits-360 dataset        Mihai Oltean   \n",
      "3        Formula 1 World Championship (1950 - 2024)              Vopani   \n",
      "4                                     arXiv Dataset  Cornell University   \n",
      "\n",
      "   Last_Update  Usability  File_Count Data_Type   Size  Upvote    Rank  \n",
      "0         2025        100           1       CSV  98 MB    3693    Gold  \n",
      "1         2025        100           4       CSV   1 MB    2315    Gold  \n",
      "2         2025         88      240356     other   4 GB    3133    Gold  \n",
      "3         2025        100          14       CSV   7 MB    1937    Gold  \n",
      "4         2025         88           1      JSON   2 GB    1480  Bronze  \n"
     ]
    }
   ],
   "source": [
    "import pandas as pd\n",
    "\n",
    "df = pd.read_csv(r\"D:\\Curso DL\\Practica 1\\kaggle_top_100_dataset.csv\", encoding=\"cp1252\", sep=\";\")\n",
    "print(df.head())\n"
   ]
  },
  {
   "cell_type": "code",
   "execution_count": null,
   "id": "7d45cd43",
   "metadata": {},
   "outputs": [],
   "source": []
  }
 ],
 "metadata": {
  "kernelspec": {
   "display_name": "Python 3 (ipykernel)",
   "language": "python",
   "name": "python3"
  },
  "language_info": {
   "codemirror_mode": {
    "name": "ipython",
    "version": 3
   },
   "file_extension": ".py",
   "mimetype": "text/x-python",
   "name": "python",
   "nbconvert_exporter": "python",
   "pygments_lexer": "ipython3",
   "version": "3.11.2"
  }
 },
 "nbformat": 4,
 "nbformat_minor": 5
}
